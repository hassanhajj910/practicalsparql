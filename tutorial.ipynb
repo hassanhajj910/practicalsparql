{
 "cells": [
  {
   "cell_type": "code",
   "execution_count": 1,
   "metadata": {},
   "outputs": [],
   "source": [
    "import practicalSPARQL"
   ]
  },
  {
   "cell_type": "markdown",
   "metadata": {},
   "source": [
    "# This is a short practicalSPAQL template notebook"
   ]
  },
  {
   "attachments": {},
   "cell_type": "markdown",
   "metadata": {},
   "source": [
    "## Simple Select Examples"
   ]
  },
  {
   "cell_type": "code",
   "execution_count": 8,
   "metadata": {},
   "outputs": [
    {
     "data": {
      "text/html": [
       "<div>\n",
       "<style scoped>\n",
       "    .dataframe tbody tr th:only-of-type {\n",
       "        vertical-align: middle;\n",
       "    }\n",
       "\n",
       "    .dataframe tbody tr th {\n",
       "        vertical-align: top;\n",
       "    }\n",
       "\n",
       "    .dataframe thead th {\n",
       "        text-align: right;\n",
       "    }\n",
       "</style>\n",
       "<table border=\"1\" class=\"dataframe\">\n",
       "  <thead>\n",
       "    <tr style=\"text-align: right;\">\n",
       "      <th></th>\n",
       "      <th>item</th>\n",
       "      <th>itemLabel</th>\n",
       "    </tr>\n",
       "  </thead>\n",
       "  <tbody>\n",
       "    <tr>\n",
       "      <th>0</th>\n",
       "      <td>http://www.wikidata.org/entity/Q378619</td>\n",
       "      <td>CC</td>\n",
       "    </tr>\n",
       "    <tr>\n",
       "      <th>1</th>\n",
       "      <td>http://www.wikidata.org/entity/Q498787</td>\n",
       "      <td>Muezza</td>\n",
       "    </tr>\n",
       "    <tr>\n",
       "      <th>2</th>\n",
       "      <td>http://www.wikidata.org/entity/Q677525</td>\n",
       "      <td>Orangey</td>\n",
       "    </tr>\n",
       "    <tr>\n",
       "      <th>3</th>\n",
       "      <td>http://www.wikidata.org/entity/Q851190</td>\n",
       "      <td>Mrs. Chippy</td>\n",
       "    </tr>\n",
       "    <tr>\n",
       "      <th>4</th>\n",
       "      <td>http://www.wikidata.org/entity/Q893453</td>\n",
       "      <td>Unsinkable Sam</td>\n",
       "    </tr>\n",
       "    <tr>\n",
       "      <th>...</th>\n",
       "      <td>...</td>\n",
       "      <td>...</td>\n",
       "    </tr>\n",
       "    <tr>\n",
       "      <th>153</th>\n",
       "      <td>http://www.wikidata.org/entity/Q110565455</td>\n",
       "      <td>Jorts</td>\n",
       "    </tr>\n",
       "    <tr>\n",
       "      <th>154</th>\n",
       "      <td>http://www.wikidata.org/entity/Q110727478</td>\n",
       "      <td>Willow</td>\n",
       "    </tr>\n",
       "    <tr>\n",
       "      <th>155</th>\n",
       "      <td>http://www.wikidata.org/entity/Q112152493</td>\n",
       "      <td>the pet from Borodianka</td>\n",
       "    </tr>\n",
       "    <tr>\n",
       "      <th>156</th>\n",
       "      <td>http://www.wikidata.org/entity/Q113512285</td>\n",
       "      <td>11 kitties</td>\n",
       "    </tr>\n",
       "    <tr>\n",
       "      <th>157</th>\n",
       "      <td>http://www.wikidata.org/entity/Q115589264</td>\n",
       "      <td>Elio</td>\n",
       "    </tr>\n",
       "  </tbody>\n",
       "</table>\n",
       "<p>158 rows × 2 columns</p>\n",
       "</div>"
      ],
      "text/plain": [
       "                                          item                itemLabel\n",
       "0       http://www.wikidata.org/entity/Q378619                       CC\n",
       "1       http://www.wikidata.org/entity/Q498787                   Muezza\n",
       "2       http://www.wikidata.org/entity/Q677525                  Orangey\n",
       "3       http://www.wikidata.org/entity/Q851190              Mrs. Chippy\n",
       "4       http://www.wikidata.org/entity/Q893453           Unsinkable Sam\n",
       "..                                         ...                      ...\n",
       "153  http://www.wikidata.org/entity/Q110565455                    Jorts\n",
       "154  http://www.wikidata.org/entity/Q110727478                   Willow\n",
       "155  http://www.wikidata.org/entity/Q112152493  the pet from Borodianka\n",
       "156  http://www.wikidata.org/entity/Q113512285               11 kitties\n",
       "157  http://www.wikidata.org/entity/Q115589264                     Elio\n",
       "\n",
       "[158 rows x 2 columns]"
      ]
     },
     "execution_count": 8,
     "metadata": {},
     "output_type": "execute_result"
    }
   ],
   "source": [
    "endpoint = practicalSPARQL.practicalWrapper('https://query.wikidata.org/sparql')\n",
    "# In case you are working with your own database with login access, make sure to insert the creds using the line below. \n",
    "# database.setCredentials('USERNAME', 'PASSWORD')\n",
    "\n",
    "query = practicalSPARQL.stringify_SPARQL('./queries/queryWikiCats.sparql')      # stringify considers the sparql, by default, to be in a seperate folder. \n",
    "                                                                        # by setting the is_file flag to False, you can pass a string query variable.   \n",
    "df = endpoint.select_as_dataframe(query)\n",
    "df"
   ]
  },
  {
   "attachments": {},
   "cell_type": "markdown",
   "metadata": {},
   "source": [
    "## In cases where multiple queries, along the same template, with mutliple entities need to be executed"
   ]
  },
  {
   "cell_type": "code",
   "execution_count": 10,
   "metadata": {},
   "outputs": [],
   "source": [
    "# you can loop and create multiple queries based on a single template.\n",
    "# In this case, we want to query all cats, followed by all horses\n",
    "\n",
    "vars = ['wd:Q146', 'wd:Q726']           # entities for cats and horses in Wikidata\n",
    "for v in vars:                          # simple loop to create queries with different variables. \n",
    "    query = practicalSPARQL.stringify_SPARQL('./queries/queryWikiVars.sparql', includesVariables=True, variable_dict={'{VARIABlE}':v})\n",
    "    # one can query the different variable quickly and store the results appropriatly.\n",
    "    # df = endpoint.select_as_dataframe(query)\n",
    "    \n",
    "    "
   ]
  },
  {
   "attachments": {},
   "cell_type": "markdown",
   "metadata": {},
   "source": [
    "## For updating graphs, one can simply use the update_query funciton"
   ]
  },
  {
   "cell_type": "code",
   "execution_count": null,
   "metadata": {},
   "outputs": [],
   "source": [
    "q = practicalSPARQL.stringify_SPARQL('./queries/DROPQUERY')\n",
    "endpoint.update_query(q)\n",
    "endpoint.con\n",
    "# update_query accepts INSERT; DELETE; and DROP Queries and executes them using POST. "
   ]
  },
  {
   "attachments": {},
   "cell_type": "markdown",
   "metadata": {},
   "source": [
    "## To construct data, you can use the construct_as_ttl function"
   ]
  },
  {
   "cell_type": "code",
   "execution_count": 13,
   "metadata": {},
   "outputs": [
    {
     "name": "stderr",
     "output_type": "stream",
     "text": [
      "/Users/hassanel-hajj/anaconda3/lib/python3.8/site-packages/SPARQLWrapper/Wrapper.py:1315: RuntimeWarning: Format requested was TURTLE, but RDF/XML (application/rdf+xml;charset=utf-8) has been returned by the endpoint\n",
      "  warnings.warn(message % (requested.upper(), format_name, mime), RuntimeWarning)\n"
     ]
    },
    {
     "ename": "AttributeError",
     "evalue": "'ConjunctiveGraph' object has no attribute 'decode'",
     "output_type": "error",
     "traceback": [
      "\u001b[0;31m---------------------------------------------------------------------------\u001b[0m",
      "\u001b[0;31mAttributeError\u001b[0m                            Traceback (most recent call last)",
      "Cell \u001b[0;32mIn[13], line 2\u001b[0m\n\u001b[1;32m      1\u001b[0m q \u001b[39m=\u001b[39m practicalSPARQL\u001b[39m.\u001b[39mstringify_SPARQL(\u001b[39m'\u001b[39m\u001b[39m./queries/queryConstruct.sparql\u001b[39m\u001b[39m'\u001b[39m)\n\u001b[0;32m----> 2\u001b[0m ttl \u001b[39m=\u001b[39m endpoint\u001b[39m.\u001b[39;49mconstruct_as_ttl(q, outpath\u001b[39m=\u001b[39;49m\u001b[39m'\u001b[39;49m\u001b[39mres.ttl\u001b[39;49m\u001b[39m'\u001b[39;49m)\n",
      "File \u001b[0;32m~/Desktop/github/practicalsparql/src/practicalSPARQL.py:217\u001b[0m, in \u001b[0;36mpracticalWrapper.construct_as_ttl\u001b[0;34m(self, q, outpath)\u001b[0m\n\u001b[1;32m    215\u001b[0m \u001b[39melse\u001b[39;00m:\n\u001b[1;32m    216\u001b[0m     \u001b[39mwith\u001b[39;00m \u001b[39mopen\u001b[39m(outpath, \u001b[39m'\u001b[39m\u001b[39mw\u001b[39m\u001b[39m'\u001b[39m) \u001b[39mas\u001b[39;00m mydump:           \n\u001b[0;32m--> 217\u001b[0m         mydump\u001b[39m.\u001b[39mwrite(results\u001b[39m.\u001b[39;49mdecode(\u001b[39m'\u001b[39m\u001b[39mutf-8\u001b[39m\u001b[39m'\u001b[39m))\n\u001b[1;32m    218\u001b[0m     \u001b[39mreturn\u001b[39;00m results\u001b[39m.\u001b[39mdecode(\u001b[39m'\u001b[39m\u001b[39mutf-8\u001b[39m\u001b[39m'\u001b[39m)\n",
      "\u001b[0;31mAttributeError\u001b[0m: 'ConjunctiveGraph' object has no attribute 'decode'"
     ]
    }
   ],
   "source": [
    "q = practicalSPARQL.stringify_SPARQL('./queries/queryConstruct.sparql')\n",
    "ttl = endpoint.construct_as_ttl(q, outpath='res.ttl')"
   ]
  },
  {
   "attachments": {},
   "cell_type": "markdown",
   "metadata": {},
   "source": [
    "## Working with local graphs "
   ]
  },
  {
   "cell_type": "code",
   "execution_count": 8,
   "metadata": {},
   "outputs": [
    {
     "name": "stdout",
     "output_type": "stream",
     "text": [
      "Graph loaded\n"
     ]
    },
    {
     "data": {
      "text/plain": [
       "<function rdflib.query.Result.parse(source=None, format: Union[str, NoneType] = None, content_type: Union[str, NoneType] = None, **kwargs)>"
      ]
     },
     "execution_count": 8,
     "metadata": {},
     "output_type": "execute_result"
    }
   ],
   "source": [
    "x = practicalSPARQL.rdfGRAPH()\n",
    "x.read_graph('./test_graph.ttl')\n",
    "q = practicalSPARQL.stringify_SPARQL('query.sparql', is_file=True)\n",
    "# x.select_as_dataframe(q)\n",
    "       \n",
    "\n"
   ]
  },
  {
   "cell_type": "code",
   "execution_count": 19,
   "metadata": {},
   "outputs": [
    {
     "name": "stdout",
     "output_type": "stream",
     "text": [
      "SELECT *\n",
      "WHERE{\n",
      "    <http://sphaera.mpiwg-berlin.mpg.de/id/item/56defdfc-9b12-4caf-b865-b70e00e5918c> ?p ?o.\n",
      "    ?s ?p ?o.\n",
      "\n",
      "}\n"
     ]
    }
   ],
   "source": [
    "print(q)"
   ]
  }
 ],
 "metadata": {
  "kernelspec": {
   "display_name": "base",
   "language": "python",
   "name": "python3"
  },
  "language_info": {
   "codemirror_mode": {
    "name": "ipython",
    "version": 3
   },
   "file_extension": ".py",
   "mimetype": "text/x-python",
   "name": "python",
   "nbconvert_exporter": "python",
   "pygments_lexer": "ipython3",
   "version": "3.8.5"
  },
  "orig_nbformat": 4,
  "vscode": {
   "interpreter": {
    "hash": "537b39401fd55f098d89986c71a45ec763bd4c290084654de2b1dc56d1f52f09"
   }
  }
 },
 "nbformat": 4,
 "nbformat_minor": 2
}
