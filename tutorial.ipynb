{
 "cells": [
  {
   "cell_type": "code",
   "execution_count": null,
   "metadata": {},
   "outputs": [],
   "source": [
    "import practicalSPARQL"
   ]
  },
  {
   "cell_type": "markdown",
   "metadata": {},
   "source": [
    "# This is a short practicalSPAQL template notebook"
   ]
  },
  {
   "attachments": {},
   "cell_type": "markdown",
   "metadata": {},
   "source": [
    "## Simple Select Examples of working with hosted graph (subclass of SPARQLWrapper)"
   ]
  },
  {
   "cell_type": "code",
   "execution_count": 2,
   "metadata": {},
   "outputs": [],
   "source": [
    "# initialize endpoint\n",
    "endpoint = practicalSPARQL.practicalWrapper('https://query.wikidata.org/sparql')\n",
    "# In case you are working with your own database with login access, make sure to insert the creds using the line below. \n",
    "# database.setCredentials('USERNAME', 'PASSWORD')"
   ]
  },
  {
   "cell_type": "code",
   "execution_count": 11,
   "metadata": {},
   "outputs": [
    {
     "data": {
      "text/html": [
       "<div>\n",
       "<style scoped>\n",
       "    .dataframe tbody tr th:only-of-type {\n",
       "        vertical-align: middle;\n",
       "    }\n",
       "\n",
       "    .dataframe tbody tr th {\n",
       "        vertical-align: top;\n",
       "    }\n",
       "\n",
       "    .dataframe thead th {\n",
       "        text-align: right;\n",
       "    }\n",
       "</style>\n",
       "<table border=\"1\" class=\"dataframe\">\n",
       "  <thead>\n",
       "    <tr style=\"text-align: right;\">\n",
       "      <th></th>\n",
       "      <th>item</th>\n",
       "      <th>itemLabel</th>\n",
       "    </tr>\n",
       "  </thead>\n",
       "  <tbody>\n",
       "    <tr>\n",
       "      <th>0</th>\n",
       "      <td>http://www.wikidata.org/entity/Q378619</td>\n",
       "      <td>CC</td>\n",
       "    </tr>\n",
       "    <tr>\n",
       "      <th>1</th>\n",
       "      <td>http://www.wikidata.org/entity/Q498787</td>\n",
       "      <td>Muezza</td>\n",
       "    </tr>\n",
       "    <tr>\n",
       "      <th>2</th>\n",
       "      <td>http://www.wikidata.org/entity/Q677525</td>\n",
       "      <td>Orangey</td>\n",
       "    </tr>\n",
       "    <tr>\n",
       "      <th>3</th>\n",
       "      <td>http://www.wikidata.org/entity/Q851190</td>\n",
       "      <td>Mrs. Chippy</td>\n",
       "    </tr>\n",
       "    <tr>\n",
       "      <th>4</th>\n",
       "      <td>http://www.wikidata.org/entity/Q893453</td>\n",
       "      <td>Unsinkable Sam</td>\n",
       "    </tr>\n",
       "    <tr>\n",
       "      <th>...</th>\n",
       "      <td>...</td>\n",
       "      <td>...</td>\n",
       "    </tr>\n",
       "    <tr>\n",
       "      <th>154</th>\n",
       "      <td>http://www.wikidata.org/entity/Q110727478</td>\n",
       "      <td>Willow</td>\n",
       "    </tr>\n",
       "    <tr>\n",
       "      <th>155</th>\n",
       "      <td>http://www.wikidata.org/entity/Q112152493</td>\n",
       "      <td>the pet from Borodianka</td>\n",
       "    </tr>\n",
       "    <tr>\n",
       "      <th>156</th>\n",
       "      <td>http://www.wikidata.org/entity/Q113512285</td>\n",
       "      <td>11 kitties</td>\n",
       "    </tr>\n",
       "    <tr>\n",
       "      <th>157</th>\n",
       "      <td>http://www.wikidata.org/entity/Q115589264</td>\n",
       "      <td>Elio</td>\n",
       "    </tr>\n",
       "    <tr>\n",
       "      <th>158</th>\n",
       "      <td>http://www.wikidata.org/entity/Q115783698</td>\n",
       "      <td>Cat Begemot</td>\n",
       "    </tr>\n",
       "  </tbody>\n",
       "</table>\n",
       "<p>159 rows × 2 columns</p>\n",
       "</div>"
      ],
      "text/plain": [
       "                                          item                itemLabel\n",
       "0       http://www.wikidata.org/entity/Q378619                       CC\n",
       "1       http://www.wikidata.org/entity/Q498787                   Muezza\n",
       "2       http://www.wikidata.org/entity/Q677525                  Orangey\n",
       "3       http://www.wikidata.org/entity/Q851190              Mrs. Chippy\n",
       "4       http://www.wikidata.org/entity/Q893453           Unsinkable Sam\n",
       "..                                         ...                      ...\n",
       "154  http://www.wikidata.org/entity/Q110727478                   Willow\n",
       "155  http://www.wikidata.org/entity/Q112152493  the pet from Borodianka\n",
       "156  http://www.wikidata.org/entity/Q113512285               11 kitties\n",
       "157  http://www.wikidata.org/entity/Q115589264                     Elio\n",
       "158  http://www.wikidata.org/entity/Q115783698              Cat Begemot\n",
       "\n",
       "[159 rows x 2 columns]"
      ]
     },
     "execution_count": 11,
     "metadata": {},
     "output_type": "execute_result"
    }
   ],
   "source": [
    "query = practicalSPARQL.stringify_SPARQL('./queries/queryWikiCats.sparql')      # stringify considers the sparql, by default, to be in a seperate folder. \n",
    "                                                                        # by setting the is_file flag to False, you can pass a string query variable.   \n",
    "df = endpoint.select_as_dataframe(query)\n",
    "df"
   ]
  },
  {
   "attachments": {},
   "cell_type": "markdown",
   "metadata": {},
   "source": [
    "## In cases where multiple queries, along the same template, with mutliple entities need to be executed"
   ]
  },
  {
   "cell_type": "code",
   "execution_count": 12,
   "metadata": {},
   "outputs": [],
   "source": [
    "# you can loop and create multiple queries based on a single template.\n",
    "# In this case, we want to query all cats, followed by all horses\n",
    "\n",
    "vars = ['wd:Q146', 'wd:Q726']           # entities for cats and horses in Wikidata\n",
    "for v in vars:                          # simple loop to create queries with different variables. \n",
    "    query = practicalSPARQL.stringify_SPARQL('./queries/queryWikiVars.sparql', includesVariables=True, variable_dict={'{VARIABlE}':v})\n",
    "    # one can query the different variable quickly and store the results appropriatly.\n",
    "    # df = endpoint.select_as_dataframe(query)\n",
    "    \n",
    "    "
   ]
  },
  {
   "attachments": {},
   "cell_type": "markdown",
   "metadata": {},
   "source": [
    "## For updating graphs, one can simply use the update_query funciton"
   ]
  },
  {
   "cell_type": "code",
   "execution_count": null,
   "metadata": {},
   "outputs": [],
   "source": [
    "q = practicalSPARQL.stringify_SPARQL('./queries/DROPQUERY')\n",
    "# endpoint.update_query(q)\n",
    "# update_query accepts INSERT; DELETE; and DROP Queries and executes them using POST. "
   ]
  },
  {
   "attachments": {},
   "cell_type": "markdown",
   "metadata": {},
   "source": [
    "## To construct data, you can use the construct_as_ttl function"
   ]
  },
  {
   "cell_type": "code",
   "execution_count": 17,
   "metadata": {},
   "outputs": [],
   "source": [
    "q = practicalSPARQL.stringify_SPARQL('./queries/queryConstruct.sparql')\n",
    "ttl = endpoint.construct_as_ttl(q)\n",
    "# add path if you want to save the file \n",
    "# ttl = endpoint.construct_as_ttl(q, outpath='PATH.ttl')\n"
   ]
  },
  {
   "attachments": {},
   "cell_type": "markdown",
   "metadata": {},
   "source": [
    "## Working with local graphs (subclass of RDFlib)"
   ]
  },
  {
   "cell_type": "code",
   "execution_count": null,
   "metadata": {},
   "outputs": [],
   "source": [
    "endpoint = practicalSPARQL.rdfGRAPH()\n",
    "endpoint.read_graph('./LOCAL_FILE.ttl')                         # read the ttl file you have stored locally. \n",
    "q = practicalSPARQL.stringify_SPARQL('queries/QUERY.sparql')    # select data from the ttl file as a dataframe\n",
    "df = endpoint.select_as_dataframe(q)\n"
   ]
  }
 ],
 "metadata": {
  "kernelspec": {
   "display_name": "base",
   "language": "python",
   "name": "python3"
  },
  "language_info": {
   "codemirror_mode": {
    "name": "ipython",
    "version": 3
   },
   "file_extension": ".py",
   "mimetype": "text/x-python",
   "name": "python",
   "nbconvert_exporter": "python",
   "pygments_lexer": "ipython3",
   "version": "3.8.5"
  },
  "orig_nbformat": 4,
  "vscode": {
   "interpreter": {
    "hash": "537b39401fd55f098d89986c71a45ec763bd4c290084654de2b1dc56d1f52f09"
   }
  }
 },
 "nbformat": 4,
 "nbformat_minor": 2
}
